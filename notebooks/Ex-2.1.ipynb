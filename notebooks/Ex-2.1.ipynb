{
 "cells": [
  {
   "cell_type": "code",
   "execution_count": 2,
   "id": "028f31e2",
   "metadata": {
    "execution": {
     "iopub.execute_input": "2025-05-12T02:17:22.439112Z",
     "iopub.status.busy": "2025-05-12T02:17:22.438627Z",
     "iopub.status.idle": "2025-05-12T02:17:22.791746Z",
     "shell.execute_reply": "2025-05-12T02:17:22.791393Z",
     "shell.execute_reply.started": "2025-05-12T02:17:22.439093Z"
    }
   },
   "outputs": [],
   "source": [
    "import numpy as np\n",
    "import matplotlib.pyplot as plt"
   ]
  },
  {
   "cell_type": "code",
   "execution_count": null,
   "id": "7a9a40ac",
   "metadata": {
    "execution": {
     "iopub.execute_input": "2025-05-12T02:17:22.792390Z",
     "iopub.status.busy": "2025-05-12T02:17:22.792222Z",
     "iopub.status.idle": "2025-05-12T02:17:22.795294Z",
     "shell.execute_reply": "2025-05-12T02:17:22.794894Z",
     "shell.execute_reply.started": "2025-05-12T02:17:22.792378Z"
    }
   },
   "outputs": [],
   "source": [
    "class Action:\n",
    "    def __init__(self, prob: float):\n",
    "        self._p = prob\n",
    "        self._n = 0\n",
    "        self._Q_est = 0\n",
    "\n",
    "    def pull(self):\n",
    "        return np.random.random() < self._p\n",
    "\n",
    "    def update(self, r):\n",
    "        self._n += 1\n",
    "        alpha = 1 / self._n\n",
    "        self._Q_est = self._Q_est + alpha * (r - self._Q_est)\n",
    "\n",
    "    @property\n",
    "    def true_p(self):\n",
    "        return self._p\n",
    "\n",
    "    @property\n",
    "    def Q(self):\n",
    "        return self._Q_est"
   ]
  },
  {
   "cell_type": "code",
   "execution_count": 5,
   "id": "4352c359-99f4-4dea-9247-58a4bee67528",
   "metadata": {
    "execution": {
     "iopub.execute_input": "2025-05-12T02:17:33.405399Z",
     "iopub.status.busy": "2025-05-12T02:17:33.405018Z",
     "iopub.status.idle": "2025-05-12T02:17:33.408878Z",
     "shell.execute_reply": "2025-05-12T02:17:33.408423Z",
     "shell.execute_reply.started": "2025-05-12T02:17:33.405382Z"
    }
   },
   "outputs": [
    {
     "name": "stdout",
     "output_type": "stream",
     "text": [
      "Optimal action: 1\n"
     ]
    }
   ],
   "source": [
    "action_probs = np.random.rand(2)\n",
    "EPS = 0.5\n",
    "actions = [Action(p) for p in action_probs]\n",
    "n_expr = 0\n",
    "n_expl = 0\n",
    "N = 10_000\n",
    "n_greedy = 0\n",
    "rewards = np.zeros(N)\n",
    "optimal_action = np.argmax([a.true_p for a in actions])\n",
    "print(f\"Optimal action: {optimal_action}\")"
   ]
  },
  {
   "cell_type": "code",
   "execution_count": 6,
   "id": "87b24e42-55d3-42da-a264-417e0f763a06",
   "metadata": {
    "execution": {
     "iopub.execute_input": "2025-05-12T02:17:35.565474Z",
     "iopub.status.busy": "2025-05-12T02:17:35.565049Z",
     "iopub.status.idle": "2025-05-12T02:17:35.570169Z",
     "shell.execute_reply": "2025-05-12T02:17:35.569831Z",
     "shell.execute_reply.started": "2025-05-12T02:17:35.565457Z"
    }
   },
   "outputs": [
    {
     "data": {
      "text/plain": [
       "array([0.093072  , 0.40315936])"
      ]
     },
     "execution_count": 6,
     "metadata": {},
     "output_type": "execute_result"
    }
   ],
   "source": [
    "action_probs"
   ]
  },
  {
   "cell_type": "code",
   "execution_count": null,
   "id": "98a5a2cc-9419-4593-8d78-746f14212195",
   "metadata": {
    "execution": {
     "iopub.execute_input": "2025-05-12T02:17:43.245388Z",
     "iopub.status.busy": "2025-05-12T02:17:43.244957Z",
     "iopub.status.idle": "2025-05-12T02:17:43.317008Z",
     "shell.execute_reply": "2025-05-12T02:17:43.316527Z",
     "shell.execute_reply.started": "2025-05-12T02:17:43.245364Z"
    }
   },
   "outputs": [],
   "source": [
    "for i in range(N):\n",
    "    if np.random.random() < EPS:\n",
    "        action = np.random.randint(0, len(actions))\n",
    "        if action == optimal_action:\n",
    "            n_greedy += 1\n",
    "        n_expr += 1\n",
    "    else:\n",
    "        action = np.argmax([action.Q for action in actions])\n",
    "        n_expl += 1\n",
    "        n_greedy += 1\n",
    "\n",
    "    reward = actions[action].pull()\n",
    "    rewards[i] = reward\n",
    "    actions[action].update(reward)"
   ]
  },
  {
   "cell_type": "code",
   "execution_count": 8,
   "id": "03a876aa-8dea-4ef2-bc06-9a6f2ef18ffd",
   "metadata": {
    "execution": {
     "iopub.execute_input": "2025-05-12T02:17:44.321569Z",
     "iopub.status.busy": "2025-05-12T02:17:44.321106Z",
     "iopub.status.idle": "2025-05-12T02:17:44.324162Z",
     "shell.execute_reply": "2025-05-12T02:17:44.323804Z",
     "shell.execute_reply.started": "2025-05-12T02:17:44.321550Z"
    }
   },
   "outputs": [
    {
     "name": "stdout",
     "output_type": "stream",
     "text": [
      "Percentage of exploited: 50.77\n",
      "Percentage of explored: 49.23\n"
     ]
    }
   ],
   "source": [
    "print(f\"Percentage of exploited: {round(n_expl/N * 100, 2)}\")\n",
    "print(f\"Percentage of explored: {round(n_expr/N *100, 2)}\")"
   ]
  },
  {
   "cell_type": "code",
   "execution_count": 9,
   "id": "4312671e-fb5f-4bd7-8df1-fe7bf5465db8",
   "metadata": {
    "execution": {
     "iopub.execute_input": "2025-05-12T02:17:45.767155Z",
     "iopub.status.busy": "2025-05-12T02:17:45.766952Z",
     "iopub.status.idle": "2025-05-12T02:17:45.770160Z",
     "shell.execute_reply": "2025-05-12T02:17:45.769760Z",
     "shell.execute_reply.started": "2025-05-12T02:17:45.767137Z"
    }
   },
   "outputs": [
    {
     "name": "stdout",
     "output_type": "stream",
     "text": [
      "Probability of greedy selection: 0.75\n"
     ]
    }
   ],
   "source": [
    "print(f\"Probability of greedy selection: {round(n_greedy / N, 2)}\")"
   ]
  },
  {
   "cell_type": "code",
   "execution_count": null,
   "id": "08a46f88-f13d-43b8-90e9-2930f24010bc",
   "metadata": {},
   "outputs": [],
   "source": []
  }
 ],
 "metadata": {
  "kernelspec": {
   "display_name": ".venv",
   "language": "python",
   "name": "python3"
  },
  "language_info": {
   "codemirror_mode": {
    "name": "ipython",
    "version": 3
   },
   "file_extension": ".py",
   "mimetype": "text/x-python",
   "name": "python",
   "nbconvert_exporter": "python",
   "pygments_lexer": "ipython3",
   "version": "3.12.8"
  }
 },
 "nbformat": 4,
 "nbformat_minor": 5
}
